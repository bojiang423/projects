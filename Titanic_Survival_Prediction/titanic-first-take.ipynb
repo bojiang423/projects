{
 "cells": [
  {
   "cell_type": "markdown",
   "execution_count": null,
   "metadata": {
    "papermill": {
     "duration": 0.009023,
     "end_time": "2020-08-27T18:43:36.166215",
     "exception": false,
     "start_time": "2020-08-27T18:43:36.157192",
     "status": "completed"
    },
    "tags": []
   },
   "source": [
    "# <div style='text-align: center'> Titanic Survival Predictions </div>"
   ]
  },
  {
   "cell_type": "code",
   "execution_count": 1,
   "metadata": {
    "_cell_guid": "b1076dfc-b9ad-4769-8c92-a6c4dae69d19",
    "_uuid": "8f2839f25d086af736a60e9eeb907d3b93b6e0e5",
    "execution": {
     "iopub.execute_input": "2020-08-27T18:43:36.189349Z",
     "iopub.status.busy": "2020-08-27T18:43:36.188763Z",
     "iopub.status.idle": "2020-08-27T18:43:36.193653Z",
     "shell.execute_reply": "2020-08-27T18:43:36.193055Z"
    },
    "papermill": {
     "duration": 0.017737,
     "end_time": "2020-08-27T18:43:36.193807",
     "exception": false,
     "start_time": "2020-08-27T18:43:36.176070",
     "status": "completed"
    },
    "tags": []
   },
   "outputs": [
    {
     "name": "stdout",
     "output_type": "stream",
     "text": [
      "/kaggle/input/titanic/gender_submission.csv\n",
      "/kaggle/input/titanic/test.csv\n",
      "/kaggle/input/titanic/train.csv\n"
     ]
    }
   ],
   "source": [
    "# This Python 3 environment comes with many helpful analytics libraries installed\n",
    "# It is defined by the kaggle/python Docker image: https://github.com/kaggle/docker-python\n",
    "# For example, here's several helpful packages to load\n",
    "\n",
    "import numpy as np # linear algebra\n",
    "import pandas as pd # data processing, CSV file I/O (e.g. pd.read_csv)\n",
    "\n",
    "# Input data files are available in the read-only \"../input/\" directory\n",
    "# For example, running this (by clicking run or pressing Shift+Enter) will list all files under the input directory\n",
    "\n",
    "import os\n",
    "for dirname, _, filenames in os.walk('/kaggle/input'):\n",
    "    for filename in filenames:\n",
    "        print(os.path.join(dirname, filename))\n",
    "\n",
    "# You can write up to 5GB to the current directory (/kaggle/working/) that gets preserved as output when you create a version using \"Save & Run All\" \n",
    "# You can also write temporary files to /kaggle/temp/, but they won't be saved outside of the current session"
   ]
  },
  {
   "cell_type": "markdown",
   "execution_count": null,
   "metadata": {
    "papermill": {
     "duration": 0.007669,
     "end_time": "2020-08-27T18:43:36.210791",
     "exception": false,
     "start_time": "2020-08-27T18:43:36.203122",
     "status": "completed"
    },
    "tags": []
   },
   "source": [
    "### Importing rest of the required libraries"
   ]
  },
  {
   "cell_type": "code",
   "execution_count": 2,
   "metadata": {
    "execution": {
     "iopub.execute_input": "2020-08-27T18:43:36.232365Z",
     "iopub.status.busy": "2020-08-27T18:43:36.231805Z",
     "iopub.status.idle": "2020-08-27T18:43:37.186582Z",
     "shell.execute_reply": "2020-08-27T18:43:37.187089Z"
    },
    "papermill": {
     "duration": 0.96877,
     "end_time": "2020-08-27T18:43:37.187243",
     "exception": false,
     "start_time": "2020-08-27T18:43:36.218473",
     "status": "completed"
    },
    "tags": []
   },
   "outputs": [],
   "source": [
    "# visualization libraries\n",
    "import matplotlib.pyplot as plt\n",
    "import seaborn as sns\n",
    "%matplotlib inline\n",
    "sns.set()\n",
    "\n",
    "# warnings\n",
    "import warnings\n",
    "warnings.filterwarnings('ignore')"
   ]
  },
  {
   "cell_type": "markdown",
   "execution_count": null,
   "metadata": {
    "papermill": {
     "duration": 0.008797,
     "end_time": "2020-08-27T18:43:37.204181",
     "exception": false,
     "start_time": "2020-08-27T18:43:37.195384",
     "status": "completed"
    },
    "tags": []
   },
   "source": [
    "### lets make dataframe of train and test"
   ]
  },
  {
   "cell_type": "code",
   "execution_count": 3,
   "metadata": {
    "execution": {
     "iopub.execute_input": "2020-08-27T18:43:37.226959Z",
     "iopub.status.busy": "2020-08-27T18:43:37.226382Z",
     "iopub.status.idle": "2020-08-27T18:43:37.244815Z",
     "shell.execute_reply": "2020-08-27T18:43:37.245243Z"
    },
    "papermill": {
     "duration": 0.033328,
     "end_time": "2020-08-27T18:43:37.245390",
     "exception": false,
     "start_time": "2020-08-27T18:43:37.212062",
     "status": "completed"
    },
    "tags": []
   },
   "outputs": [],
   "source": [
    "train = pd.read_csv('/kaggle/input/titanic/train.csv')\n",
    "test = pd.read_csv('/kaggle/input/titanic/test.csv')"
   ]
  },
  {
   "cell_type": "markdown",
   "execution_count": null,
   "metadata": {
    "papermill": {
     "duration": 0.007496,
     "end_time": "2020-08-27T18:43:37.260616",
     "exception": false,
     "start_time": "2020-08-27T18:43:37.253120",
     "status": "completed"
    },
    "tags": []
   },
   "source": [
    "# Exploratory data analysis"
   ]
  },
  {
   "cell_type": "code",
   "execution_count": 4,
   "metadata": {
    "execution": {
     "iopub.execute_input": "2020-08-27T18:43:37.278913Z",
     "iopub.status.busy": "2020-08-27T18:43:37.278314Z",
     "iopub.status.idle": "2020-08-27T18:43:37.300545Z",
     "shell.execute_reply": "2020-08-27T18:43:37.301249Z"
    },
    "papermill": {
     "duration": 0.033355,
     "end_time": "2020-08-27T18:43:37.301469",
     "exception": false,
     "start_time": "2020-08-27T18:43:37.268114",
     "status": "completed"
    },
    "tags": []
   },
   "outputs": [
    {
     "name": "stdout",
     "output_type": "stream",
     "text": [
      "<class 'pandas.core.frame.DataFrame'>\n",
      "RangeIndex: 891 entries, 0 to 890\n",
      "Data columns (total 12 columns):\n",
      " #   Column       Non-Null Count  Dtype  \n",
      "---  ------       --------------  -----  \n",
      " 0   PassengerId  891 non-null    int64  \n",
      " 1   Survived     891 non-null    int64  \n",
      " 2   Pclass       891 non-null    int64  \n",
      " 3   Name         891 non-null    object \n",
      " 4   Sex          891 non-null    object \n",
      " 5   Age          714 non-null    float64\n",
      " 6   SibSp        891 non-null    int64  \n",
      " 7   Parch        891 non-null    int64  \n",
      " 8   Ticket       891 non-null    object \n",
      " 9   Fare         891 non-null    float64\n",
      " 10  Cabin        204 non-null    object \n",
      " 11  Embarked     889 non-null    object \n",
      "dtypes: float64(2), int64(5), object(5)\n",
      "memory usage: 83.7+ KB\n"
     ]
    }
   ],
   "source": [
    "# some information about the dataframe\n",
    "train.info()"
   ]
  },
  {
   "cell_type": "markdown",
   "execution_count": null,
   "metadata": {
    "papermill": {
     "duration": 0.007892,
     "end_time": "2020-08-27T18:43:37.318323",
     "exception": false,
     "start_time": "2020-08-27T18:43:37.310431",
     "status": "completed"
    },
    "tags": []
   },
   "source": [
    "**We see that there are total 891 records and 12 columns, most of them are numerical. We also have a few columns with highest number of missing values like Survived, Age and Cabin**"
   ]
  },
  {
   "cell_type": "code",
   "execution_count": 5,
   "metadata": {
    "_cell_guid": "79c7e3d0-c299-4dcb-8224-4455121ee9b0",
    "_uuid": "d629ff2d2480ee46fbb7e2d37f6b5fab8052498a",
    "execution": {
     "iopub.execute_input": "2020-08-27T18:43:37.336946Z",
     "iopub.status.busy": "2020-08-27T18:43:37.336350Z",
     "iopub.status.idle": "2020-08-27T18:43:37.343433Z",
     "shell.execute_reply": "2020-08-27T18:43:37.343951Z"
    },
    "papermill": {
     "duration": 0.018033,
     "end_time": "2020-08-27T18:43:37.344086",
     "exception": false,
     "start_time": "2020-08-27T18:43:37.326053",
     "status": "completed"
    },
    "tags": []
   },
   "outputs": [
    {
     "data": {
      "text/plain": [
       "PassengerId      int64\n",
       "Survived         int64\n",
       "Pclass           int64\n",
       "Name            object\n",
       "Sex             object\n",
       "Age            float64\n",
       "SibSp            int64\n",
       "Parch            int64\n",
       "Ticket          object\n",
       "Fare           float64\n",
       "Cabin           object\n",
       "Embarked        object\n",
       "dtype: object"
      ]
     },
     "execution_count": 5,
     "metadata": {},
     "output_type": "execute_result"
    }
   ],
   "source": [
    "# Data types of columns\n",
    "train.dtypes"
   ]
  },
  {
   "cell_type": "code",
   "execution_count": 6,
   "metadata": {
    "execution": {
     "iopub.execute_input": "2020-08-27T18:43:37.363482Z",
     "iopub.status.busy": "2020-08-27T18:43:37.362941Z",
     "iopub.status.idle": "2020-08-27T18:43:37.393808Z",
     "shell.execute_reply": "2020-08-27T18:43:37.394237Z"
    },
    "papermill": {
     "duration": 0.04198,
     "end_time": "2020-08-27T18:43:37.394382",
     "exception": false,
     "start_time": "2020-08-27T18:43:37.352402",
     "status": "completed"
    },
    "tags": []
   },
   "outputs": [
    {
     "data": {
      "text/html": [
       "<div>\n",
       "<style scoped>\n",
       "    .dataframe tbody tr th:only-of-type {\n",
       "        vertical-align: middle;\n",
       "    }\n",
       "\n",
       "    .dataframe tbody tr th {\n",
       "        vertical-align: top;\n",
       "    }\n",
       "\n",
       "    .dataframe thead th {\n",
       "        text-align: right;\n",
       "    }\n",
       "</style>\n",
       "<table border=\"1\" class=\"dataframe\">\n",
       "  <thead>\n",
       "    <tr style=\"text-align: right;\">\n",
       "      <th></th>\n",
       "      <th>PassengerId</th>\n",
       "      <th>Survived</th>\n",
       "      <th>Pclass</th>\n",
       "      <th>Age</th>\n",
       "      <th>SibSp</th>\n",
       "      <th>Parch</th>\n",
       "      <th>Fare</th>\n",
       "    </tr>\n",
       "  </thead>\n",
       "  <tbody>\n",
       "    <tr>\n",
       "      <th>count</th>\n",
       "      <td>891.000000</td>\n",
       "      <td>891.000000</td>\n",
       "      <td>891.000000</td>\n",
       "      <td>714.000000</td>\n",
       "      <td>891.000000</td>\n",
       "      <td>891.000000</td>\n",
       "      <td>891.000000</td>\n",
       "    </tr>\n",
       "    <tr>\n",
       "      <th>mean</th>\n",
       "      <td>446.000000</td>\n",
       "      <td>0.383838</td>\n",
       "      <td>2.308642</td>\n",
       "      <td>29.699118</td>\n",
       "      <td>0.523008</td>\n",
       "      <td>0.381594</td>\n",
       "      <td>32.204208</td>\n",
       "    </tr>\n",
       "    <tr>\n",
       "      <th>std</th>\n",
       "      <td>257.353842</td>\n",
       "      <td>0.486592</td>\n",
       "      <td>0.836071</td>\n",
       "      <td>14.526497</td>\n",
       "      <td>1.102743</td>\n",
       "      <td>0.806057</td>\n",
       "      <td>49.693429</td>\n",
       "    </tr>\n",
       "    <tr>\n",
       "      <th>min</th>\n",
       "      <td>1.000000</td>\n",
       "      <td>0.000000</td>\n",
       "      <td>1.000000</td>\n",
       "      <td>0.420000</td>\n",
       "      <td>0.000000</td>\n",
       "      <td>0.000000</td>\n",
       "      <td>0.000000</td>\n",
       "    </tr>\n",
       "    <tr>\n",
       "      <th>25%</th>\n",
       "      <td>223.500000</td>\n",
       "      <td>0.000000</td>\n",
       "      <td>2.000000</td>\n",
       "      <td>20.125000</td>\n",
       "      <td>0.000000</td>\n",
       "      <td>0.000000</td>\n",
       "      <td>7.910400</td>\n",
       "    </tr>\n",
       "    <tr>\n",
       "      <th>50%</th>\n",
       "      <td>446.000000</td>\n",
       "      <td>0.000000</td>\n",
       "      <td>3.000000</td>\n",
       "      <td>28.000000</td>\n",
       "      <td>0.000000</td>\n",
       "      <td>0.000000</td>\n",
       "      <td>14.454200</td>\n",
       "    </tr>\n",
       "    <tr>\n",
       "      <th>75%</th>\n",
       "      <td>668.500000</td>\n",
       "      <td>1.000000</td>\n",
       "      <td>3.000000</td>\n",
       "      <td>38.000000</td>\n",
       "      <td>1.000000</td>\n",
       "      <td>0.000000</td>\n",
       "      <td>31.000000</td>\n",
       "    </tr>\n",
       "    <tr>\n",
       "      <th>max</th>\n",
       "      <td>891.000000</td>\n",
       "      <td>1.000000</td>\n",
       "      <td>3.000000</td>\n",
       "      <td>80.000000</td>\n",
       "      <td>8.000000</td>\n",
       "      <td>6.000000</td>\n",
       "      <td>512.329200</td>\n",
       "    </tr>\n",
       "  </tbody>\n",
       "</table>\n",
       "</div>"
      ],
      "text/plain": [
       "       PassengerId    Survived      Pclass         Age       SibSp  \\\n",
       "count   891.000000  891.000000  891.000000  714.000000  891.000000   \n",
       "mean    446.000000    0.383838    2.308642   29.699118    0.523008   \n",
       "std     257.353842    0.486592    0.836071   14.526497    1.102743   \n",
       "min       1.000000    0.000000    1.000000    0.420000    0.000000   \n",
       "25%     223.500000    0.000000    2.000000   20.125000    0.000000   \n",
       "50%     446.000000    0.000000    3.000000   28.000000    0.000000   \n",
       "75%     668.500000    1.000000    3.000000   38.000000    1.000000   \n",
       "max     891.000000    1.000000    3.000000   80.000000    8.000000   \n",
       "\n",
       "            Parch        Fare  \n",
       "count  891.000000  891.000000  \n",
       "mean     0.381594   32.204208  \n",
       "std      0.806057   49.693429  \n",
       "min      0.000000    0.000000  \n",
       "25%      0.000000    7.910400  \n",
       "50%      0.000000   14.454200  \n",
       "75%      0.000000   31.000000  \n",
       "max      6.000000  512.329200  "
      ]
     },
     "execution_count": 6,
     "metadata": {},
     "output_type": "execute_result"
    }
   ],
   "source": [
    "# Summary\n",
    "train.describe() # by default we get the summary of numerical datatype columns"
   ]
  },
  {
   "cell_type": "markdown",
   "execution_count": null,
   "metadata": {
    "papermill": {
     "duration": 0.008098,
     "end_time": "2020-08-27T18:43:37.410889",
     "exception": false,
     "start_time": "2020-08-27T18:43:37.402791",
     "status": "completed"
    },
    "tags": []
   },
   "source": [
    "## Some facts"
   ]
  },
  {
   "cell_type": "code",
   "execution_count": 7,
   "metadata": {
    "execution": {
     "iopub.execute_input": "2020-08-27T18:43:37.434498Z",
     "iopub.status.busy": "2020-08-27T18:43:37.433907Z",
     "iopub.status.idle": "2020-08-27T18:43:37.685541Z",
     "shell.execute_reply": "2020-08-27T18:43:37.684956Z"
    },
    "papermill": {
     "duration": 0.266436,
     "end_time": "2020-08-27T18:43:37.685646",
     "exception": false,
     "start_time": "2020-08-27T18:43:37.419210",
     "status": "completed"
    },
    "tags": []
   },
   "outputs": [
    {
     "name": "stdout",
     "output_type": "stream",
     "text": [
      "females survival percent:  74.20382165605095\n",
      "males survival percent:  18.890814558058924\n"
     ]
    },
    {
     "data": {
      "image/png": "[encoded data removed]",
      "text/plain": [
       "<Figure size 432x288 with 1 Axes>"
      ]
     },
     "metadata": {},
     "output_type": "display_data"
    }
   ],
   "source": [
    "# Sex feature\n",
    "sns.barplot(x=train.Sex, y=train.Survived)\n",
    "print(f'females survival percent: ',train[\"Survived\"][train[\"Sex\"] == 'female'].value_counts(normalize = True)[1]*100)\n",
    "print(f'males survival percent: ',train[\"Survived\"][train[\"Sex\"] == 'male'].value_counts(normalize = True)[1]*100)"
   ]
  },
  {
   "cell_type": "code",
   "execution_count": 8,
   "metadata": {
    "execution": {
     "iopub.execute_input": "2020-08-27T18:43:37.713025Z",
     "iopub.status.busy": "2020-08-27T18:43:37.711948Z",
     "iopub.status.idle": "2020-08-27T18:43:37.913916Z",
     "shell.execute_reply": "2020-08-27T18:43:37.913433Z"
    },
    "papermill": {
     "duration": 0.219843,
     "end_time": "2020-08-27T18:43:37.914070",
     "exception": false,
     "start_time": "2020-08-27T18:43:37.694227",
     "status": "completed"
    },
    "tags": []
   },
   "outputs": [
    {
     "name": "stdout",
     "output_type": "stream",
     "text": [
      "Pclass 1 survival percent:  62.96296296296296\n",
      "Pclass 2 survival percent:  47.28260869565217\n",
      "Pclass 3 survival percent:  24.236252545824847\n"
     ]
    },
    {
     "data": {
      "image/png": "[encoded data removed]",
      "text/plain": [
       "<Figure size 432x288 with 1 Axes>"
      ]
     },
     "metadata": {},
     "output_type": "display_data"
    }
   ],
   "source": [
    "# Pclass feature\n",
    "sns.barplot(x=train.Pclass, y=train.Survived)\n",
    "print(f'Pclass 1 survival percent: ',train[\"Survived\"][train[\"Pclass\"] == 1].value_counts(normalize = True)[1]*100)\n",
    "print(f'Pclass 2 survival percent: ',train[\"Survived\"][train[\"Pclass\"] == 2].value_counts(normalize = True)[1]*100)\n",
    "print(f'Pclass 3 survival percent: ',train[\"Survived\"][train[\"Pclass\"] == 3].value_counts(normalize = True)[1]*100)"
   ]
  },
  {
   "cell_type": "markdown",
   "execution_count": null,
   "metadata": {
    "papermill": {
     "duration": 0.008265,
     "end_time": "2020-08-27T18:43:37.931328",
     "exception": false,
     "start_time": "2020-08-27T18:43:37.923063",
     "status": "completed"
    },
    "tags": []
   },
   "source": [
    "## Missing values"
   ]
  },
  {
   "cell_type": "code",
   "execution_count": 9,
   "metadata": {
    "execution": {
     "iopub.execute_input": "2020-08-27T18:43:37.956313Z",
     "iopub.status.busy": "2020-08-27T18:43:37.955527Z",
     "iopub.status.idle": "2020-08-27T18:43:37.958968Z",
     "shell.execute_reply": "2020-08-27T18:43:37.959392Z"
    },
    "papermill": {
     "duration": 0.019453,
     "end_time": "2020-08-27T18:43:37.959519",
     "exception": false,
     "start_time": "2020-08-27T18:43:37.940066",
     "status": "completed"
    },
    "tags": []
   },
   "outputs": [
    {
     "data": {
      "text/plain": [
       "PassengerId      0\n",
       "Survived         0\n",
       "Pclass           0\n",
       "Name             0\n",
       "Sex              0\n",
       "Age            177\n",
       "SibSp            0\n",
       "Parch            0\n",
       "Ticket           0\n",
       "Fare             0\n",
       "Cabin          687\n",
       "Embarked         2\n",
       "dtype: int64"
      ]
     },
     "execution_count": 9,
     "metadata": {},
     "output_type": "execute_result"
    }
   ],
   "source": [
    "# checking missing values in train dataset\n",
    "train.isnull().sum()"
   ]
  },
  {
   "cell_type": "code",
   "execution_count": 10,
   "metadata": {
    "execution": {
     "iopub.execute_input": "2020-08-27T18:43:37.981435Z",
     "iopub.status.busy": "2020-08-27T18:43:37.980555Z",
     "iopub.status.idle": "2020-08-27T18:43:37.987407Z",
     "shell.execute_reply": "2020-08-27T18:43:37.987841Z"
    },
    "papermill": {
     "duration": 0.019127,
     "end_time": "2020-08-27T18:43:37.987971",
     "exception": false,
     "start_time": "2020-08-27T18:43:37.968844",
     "status": "completed"
    },
    "tags": []
   },
   "outputs": [
    {
     "data": {
      "text/plain": [
       "PassengerId      0\n",
       "Pclass           0\n",
       "Name             0\n",
       "Sex              0\n",
       "Age             86\n",
       "SibSp            0\n",
       "Parch            0\n",
       "Ticket           0\n",
       "Fare             1\n",
       "Cabin          327\n",
       "Embarked         0\n",
       "dtype: int64"
      ]
     },
     "execution_count": 10,
     "metadata": {},
     "output_type": "execute_result"
    }
   ],
   "source": [
    "# checking missing values in test dataset\n",
    "test.isnull().sum()"
   ]
  },
  {
   "cell_type": "markdown",
   "execution_count": null,
   "metadata": {
    "papermill": {
     "duration": 0.008891,
     "end_time": "2020-08-27T18:43:38.005889",
     "exception": false,
     "start_time": "2020-08-27T18:43:37.996998",
     "status": "completed"
    },
    "tags": []
   },
   "source": [
    "**We see that there are missing values in both train and test datasets. There's a great number of missing values in Cabin column so better we remove the column and fill the rest of missing values**"
   ]
  },
  {
   "cell_type": "code",
   "execution_count": 11,
   "metadata": {
    "execution": {
     "iopub.execute_input": "2020-08-27T18:43:38.031534Z",
     "iopub.status.busy": "2020-08-27T18:43:38.030847Z",
     "iopub.status.idle": "2020-08-27T18:43:38.033182Z",
     "shell.execute_reply": "2020-08-27T18:43:38.033644Z"
    },
    "papermill": {
     "duration": 0.018922,
     "end_time": "2020-08-27T18:43:38.033826",
     "exception": false,
     "start_time": "2020-08-27T18:43:38.014904",
     "status": "completed"
    },
    "tags": []
   },
   "outputs": [],
   "source": [
    "# Along with cabin columns we also need to remove a few more columns which will be meaningless in future like PassengerId, Name, Ticket, Cabin\n",
    "train.drop(columns=['PassengerId','Name','Ticket','Cabin'], axis=1, inplace=True)\n",
    "test.drop(columns=['PassengerId','Name','Ticket','Cabin'], axis=1, inplace=True)"
   ]
  },
  {
   "cell_type": "code",
   "execution_count": 12,
   "metadata": {
    "execution": {
     "iopub.execute_input": "2020-08-27T18:43:38.059477Z",
     "iopub.status.busy": "2020-08-27T18:43:38.058918Z",
     "iopub.status.idle": "2020-08-27T18:43:38.061977Z",
     "shell.execute_reply": "2020-08-27T18:43:38.062391Z"
    },
    "papermill": {
     "duration": 0.019483,
     "end_time": "2020-08-27T18:43:38.062541",
     "exception": false,
     "start_time": "2020-08-27T18:43:38.043058",
     "status": "completed"
    },
    "tags": []
   },
   "outputs": [],
   "source": [
    "# Replace the Sex column male with 1 and female with 0 in train and test datasets\n",
    "train['Sex'] = [1 if gender=='male' else 0 for gender in train['Sex']]\n",
    "test['Sex'] = [1 if gender=='male' else 0 for gender in test['Sex']]"
   ]
  },
  {
   "cell_type": "code",
   "execution_count": 13,
   "metadata": {
    "execution": {
     "iopub.execute_input": "2020-08-27T18:43:38.085052Z",
     "iopub.status.busy": "2020-08-27T18:43:38.084211Z",
     "iopub.status.idle": "2020-08-27T18:43:38.096311Z",
     "shell.execute_reply": "2020-08-27T18:43:38.095843Z"
    },
    "papermill": {
     "duration": 0.024516,
     "end_time": "2020-08-27T18:43:38.096415",
     "exception": false,
     "start_time": "2020-08-27T18:43:38.071899",
     "status": "completed"
    },
    "tags": []
   },
   "outputs": [
    {
     "data": {
      "text/html": [
       "<div>\n",
       "<style scoped>\n",
       "    .dataframe tbody tr th:only-of-type {\n",
       "        vertical-align: middle;\n",
       "    }\n",
       "\n",
       "    .dataframe tbody tr th {\n",
       "        vertical-align: top;\n",
       "    }\n",
       "\n",
       "    .dataframe thead th {\n",
       "        text-align: right;\n",
       "    }\n",
       "</style>\n",
       "<table border=\"1\" class=\"dataframe\">\n",
       "  <thead>\n",
       "    <tr style=\"text-align: right;\">\n",
       "      <th></th>\n",
       "      <th>Survived</th>\n",
       "      <th>Pclass</th>\n",
       "      <th>Sex</th>\n",
       "      <th>Age</th>\n",
       "      <th>SibSp</th>\n",
       "      <th>Parch</th>\n",
       "      <th>Fare</th>\n",
       "      <th>Embarked</th>\n",
       "    </tr>\n",
       "  </thead>\n",
       "  <tbody>\n",
       "    <tr>\n",
       "      <th>0</th>\n",
       "      <td>0</td>\n",
       "      <td>3</td>\n",
       "      <td>1</td>\n",
       "      <td>22.0</td>\n",
       "      <td>1</td>\n",
       "      <td>0</td>\n",
       "      <td>7.2500</td>\n",
       "      <td>S</td>\n",
       "    </tr>\n",
       "    <tr>\n",
       "      <th>1</th>\n",
       "      <td>1</td>\n",
       "      <td>1</td>\n",
       "      <td>0</td>\n",
       "      <td>38.0</td>\n",
       "      <td>1</td>\n",
       "      <td>0</td>\n",
       "      <td>71.2833</td>\n",
       "      <td>C</td>\n",
       "    </tr>\n",
       "    <tr>\n",
       "      <th>2</th>\n",
       "      <td>1</td>\n",
       "      <td>3</td>\n",
       "      <td>0</td>\n",
       "      <td>26.0</td>\n",
       "      <td>0</td>\n",
       "      <td>0</td>\n",
       "      <td>7.9250</td>\n",
       "      <td>S</td>\n",
       "    </tr>\n",
       "    <tr>\n",
       "      <th>3</th>\n",
       "      <td>1</td>\n",
       "      <td>1</td>\n",
       "      <td>0</td>\n",
       "      <td>35.0</td>\n",
       "      <td>1</td>\n",
       "      <td>0</td>\n",
       "      <td>53.1000</td>\n",
       "      <td>S</td>\n",
       "    </tr>\n",
       "    <tr>\n",
       "      <th>4</th>\n",
       "      <td>0</td>\n",
       "      <td>3</td>\n",
       "      <td>1</td>\n",
       "      <td>35.0</td>\n",
       "      <td>0</td>\n",
       "      <td>0</td>\n",
       "      <td>8.0500</td>\n",
       "      <td>S</td>\n",
       "    </tr>\n",
       "  </tbody>\n",
       "</table>\n",
       "</div>"
      ],
      "text/plain": [
       "   Survived  Pclass  Sex   Age  SibSp  Parch     Fare Embarked\n",
       "0         0       3    1  22.0      1      0   7.2500        S\n",
       "1         1       1    0  38.0      1      0  71.2833        C\n",
       "2         1       3    0  26.0      0      0   7.9250        S\n",
       "3         1       1    0  35.0      1      0  53.1000        S\n",
       "4         0       3    1  35.0      0      0   8.0500        S"
      ]
     },
     "execution_count": 13,
     "metadata": {},
     "output_type": "execute_result"
    }
   ],
   "source": [
    "train.head()"
   ]
  },
  {
   "cell_type": "code",
   "execution_count": 14,
   "metadata": {
    "execution": {
     "iopub.execute_input": "2020-08-27T18:43:38.127306Z",
     "iopub.status.busy": "2020-08-27T18:43:38.126711Z",
     "iopub.status.idle": "2020-08-27T18:43:38.129320Z",
     "shell.execute_reply": "2020-08-27T18:43:38.129876Z"
    },
    "papermill": {
     "duration": 0.023756,
     "end_time": "2020-08-27T18:43:38.130017",
     "exception": false,
     "start_time": "2020-08-27T18:43:38.106261",
     "status": "completed"
    },
    "tags": []
   },
   "outputs": [
    {
     "name": "stdout",
     "output_type": "stream",
     "text": [
      "<class 'pandas.core.frame.DataFrame'>\n",
      "RangeIndex: 891 entries, 0 to 890\n",
      "Data columns (total 8 columns):\n",
      " #   Column    Non-Null Count  Dtype  \n",
      "---  ------    --------------  -----  \n",
      " 0   Survived  891 non-null    int64  \n",
      " 1   Pclass    891 non-null    int64  \n",
      " 2   Sex       891 non-null    int64  \n",
      " 3   Age       714 non-null    float64\n",
      " 4   SibSp     891 non-null    int64  \n",
      " 5   Parch     891 non-null    int64  \n",
      " 6   Fare      891 non-null    float64\n",
      " 7   Embarked  889 non-null    object \n",
      "dtypes: float64(2), int64(5), object(1)\n",
      "memory usage: 55.8+ KB\n"
     ]
    }
   ],
   "source": [
    "train.info()"
   ]
  },
  {
   "cell_type": "code",
   "execution_count": 15,
   "metadata": {
    "execution": {
     "iopub.execute_input": "2020-08-27T18:43:38.153284Z",
     "iopub.status.busy": "2020-08-27T18:43:38.152713Z",
     "iopub.status.idle": "2020-08-27T18:43:38.158134Z",
     "shell.execute_reply": "2020-08-27T18:43:38.158690Z"
    },
    "papermill": {
     "duration": 0.018211,
     "end_time": "2020-08-27T18:43:38.158835",
     "exception": false,
     "start_time": "2020-08-27T18:43:38.140624",
     "status": "completed"
    },
    "tags": []
   },
   "outputs": [],
   "source": [
    "# filling the missing age values in train and test\n",
    "train.Age.fillna(train.Age.median(), inplace=True)\n",
    "test.Age.fillna(test.Age.median(), inplace=True)"
   ]
  },
  {
   "cell_type": "code",
   "execution_count": 16,
   "metadata": {
    "execution": {
     "iopub.execute_input": "2020-08-27T18:43:38.180795Z",
     "iopub.status.busy": "2020-08-27T18:43:38.180159Z",
     "iopub.status.idle": "2020-08-27T18:43:38.189998Z",
     "shell.execute_reply": "2020-08-27T18:43:38.190445Z"
    },
    "papermill": {
     "duration": 0.02202,
     "end_time": "2020-08-27T18:43:38.190576",
     "exception": false,
     "start_time": "2020-08-27T18:43:38.168556",
     "status": "completed"
    },
    "tags": []
   },
   "outputs": [],
   "source": [
    "# grouping the age in train and test\n",
    "bins = [0,10,20,40,60,80,100]\n",
    "groups = [0,2,3,4,5,6]\n",
    "train['AgeGroup'] = pd.cut(train['Age'], bins, labels=groups, include_lowest=True)\n",
    "test['AgeGroup'] = pd.cut(test['Age'], bins, labels=groups, include_lowest=True)"
   ]
  },
  {
   "cell_type": "code",
   "execution_count": 17,
   "metadata": {
    "execution": {
     "iopub.execute_input": "2020-08-27T18:43:38.218136Z",
     "iopub.status.busy": "2020-08-27T18:43:38.217547Z",
     "iopub.status.idle": "2020-08-27T18:43:38.221052Z",
     "shell.execute_reply": "2020-08-27T18:43:38.220552Z"
    },
    "papermill": {
     "duration": 0.019871,
     "end_time": "2020-08-27T18:43:38.221172",
     "exception": false,
     "start_time": "2020-08-27T18:43:38.201301",
     "status": "completed"
    },
    "tags": []
   },
   "outputs": [],
   "source": [
    "# so remove the age column from both train and test\n",
    "train.drop(columns=['Age'], inplace=True)\n",
    "test.drop(columns=['Age'], inplace=True)"
   ]
  },
  {
   "cell_type": "code",
   "execution_count": 18,
   "metadata": {
    "execution": {
     "iopub.execute_input": "2020-08-27T18:43:38.245330Z",
     "iopub.status.busy": "2020-08-27T18:43:38.244778Z",
     "iopub.status.idle": "2020-08-27T18:43:38.247039Z",
     "shell.execute_reply": "2020-08-27T18:43:38.247528Z"
    },
    "papermill": {
     "duration": 0.017169,
     "end_time": "2020-08-27T18:43:38.247711",
     "exception": false,
     "start_time": "2020-08-27T18:43:38.230542",
     "status": "completed"
    },
    "tags": []
   },
   "outputs": [],
   "source": [
    "# there is a missing value in the Fare column of test dataset so let's fill that first\n",
    "test.Fare.fillna(test.Fare.median(), inplace=True)"
   ]
  },
  {
   "cell_type": "code",
   "execution_count": 19,
   "metadata": {
    "execution": {
     "iopub.execute_input": "2020-08-27T18:43:38.269753Z",
     "iopub.status.busy": "2020-08-27T18:43:38.269099Z",
     "iopub.status.idle": "2020-08-27T18:43:38.279777Z",
     "shell.execute_reply": "2020-08-27T18:43:38.279212Z"
    },
    "papermill": {
     "duration": 0.022639,
     "end_time": "2020-08-27T18:43:38.279884",
     "exception": false,
     "start_time": "2020-08-27T18:43:38.257245",
     "status": "completed"
    },
    "tags": []
   },
   "outputs": [],
   "source": [
    "# Now lets group the fare column for both train and test dataset\n",
    "bins = [0,100,200,300,400,500,600]\n",
    "groups = [0,1,2,3,4,5]\n",
    "train['FareGroup'] = pd.cut(train['Fare'], bins, labels=groups, include_lowest=True)\n",
    "test['FareGroup'] = pd.cut(test['Fare'], bins, labels=groups, include_lowest=True)"
   ]
  },
  {
   "cell_type": "code",
   "execution_count": 20,
   "metadata": {
    "execution": {
     "iopub.execute_input": "2020-08-27T18:43:38.305726Z",
     "iopub.status.busy": "2020-08-27T18:43:38.305083Z",
     "iopub.status.idle": "2020-08-27T18:43:38.307404Z",
     "shell.execute_reply": "2020-08-27T18:43:38.307808Z"
    },
    "papermill": {
     "duration": 0.018727,
     "end_time": "2020-08-27T18:43:38.307942",
     "exception": false,
     "start_time": "2020-08-27T18:43:38.289215",
     "status": "completed"
    },
    "tags": []
   },
   "outputs": [],
   "source": [
    "# Now remove the Fare column from both datasets\n",
    "train.drop(columns=['Fare'], axis=1, inplace=True)\n",
    "test.drop(columns=['Fare'], axis=1, inplace=True)"
   ]
  },
  {
   "cell_type": "code",
   "execution_count": 21,
   "metadata": {
    "execution": {
     "iopub.execute_input": "2020-08-27T18:43:38.333282Z",
     "iopub.status.busy": "2020-08-27T18:43:38.332552Z",
     "iopub.status.idle": "2020-08-27T18:43:38.335388Z",
     "shell.execute_reply": "2020-08-27T18:43:38.335822Z"
    },
    "papermill": {
     "duration": 0.018738,
     "end_time": "2020-08-27T18:43:38.335965",
     "exception": false,
     "start_time": "2020-08-27T18:43:38.317227",
     "status": "completed"
    },
    "tags": []
   },
   "outputs": [],
   "source": [
    "# we have missing values in Embarked column in train dataset so lets fill that first\n",
    "train.Embarked.fillna(train.Embarked.mode(), inplace=True)"
   ]
  },
  {
   "cell_type": "markdown",
   "execution_count": null,
   "metadata": {
    "papermill": {
     "duration": 0.00947,
     "end_time": "2020-08-27T18:43:38.354943",
     "exception": false,
     "start_time": "2020-08-27T18:43:38.345473",
     "status": "completed"
    },
    "tags": []
   },
   "source": [
    "## One-hot encoding"
   ]
  },
  {
   "cell_type": "code",
   "execution_count": 22,
   "metadata": {
    "execution": {
     "iopub.execute_input": "2020-08-27T18:43:38.390782Z",
     "iopub.status.busy": "2020-08-27T18:43:38.387115Z",
     "iopub.status.idle": "2020-08-27T18:43:38.395363Z",
     "shell.execute_reply": "2020-08-27T18:43:38.394800Z"
    },
    "papermill": {
     "duration": 0.029239,
     "end_time": "2020-08-27T18:43:38.395474",
     "exception": false,
     "start_time": "2020-08-27T18:43:38.366235",
     "status": "completed"
    },
    "tags": []
   },
   "outputs": [],
   "source": [
    "train = pd.get_dummies(train, columns=['Pclass','AgeGroup','Embarked'])\n",
    "test = pd.get_dummies(test, columns=['Pclass','AgeGroup','Embarked'])"
   ]
  },
  {
   "cell_type": "code",
   "execution_count": 23,
   "metadata": {
    "execution": {
     "iopub.execute_input": "2020-08-27T18:43:38.428390Z",
     "iopub.status.busy": "2020-08-27T18:43:38.427647Z",
     "iopub.status.idle": "2020-08-27T18:43:38.431705Z",
     "shell.execute_reply": "2020-08-27T18:43:38.431228Z"
    },
    "papermill": {
     "duration": 0.026518,
     "end_time": "2020-08-27T18:43:38.431819",
     "exception": false,
     "start_time": "2020-08-27T18:43:38.405301",
     "status": "completed"
    },
    "tags": []
   },
   "outputs": [
    {
     "data": {
      "text/html": [
       "<div>\n",
       "<style scoped>\n",
       "    .dataframe tbody tr th:only-of-type {\n",
       "        vertical-align: middle;\n",
       "    }\n",
       "\n",
       "    .dataframe tbody tr th {\n",
       "        vertical-align: top;\n",
       "    }\n",
       "\n",
       "    .dataframe thead th {\n",
       "        text-align: right;\n",
       "    }\n",
       "</style>\n",
       "<table border=\"1\" class=\"dataframe\">\n",
       "  <thead>\n",
       "    <tr style=\"text-align: right;\">\n",
       "      <th></th>\n",
       "      <th>Survived</th>\n",
       "      <th>Sex</th>\n",
       "      <th>SibSp</th>\n",
       "      <th>Parch</th>\n",
       "      <th>FareGroup</th>\n",
       "      <th>Pclass_1</th>\n",
       "      <th>Pclass_2</th>\n",
       "      <th>Pclass_3</th>\n",
       "      <th>AgeGroup_0</th>\n",
       "      <th>AgeGroup_2</th>\n",
       "      <th>AgeGroup_3</th>\n",
       "      <th>AgeGroup_4</th>\n",
       "      <th>AgeGroup_5</th>\n",
       "      <th>AgeGroup_6</th>\n",
       "      <th>Embarked_C</th>\n",
       "      <th>Embarked_Q</th>\n",
       "      <th>Embarked_S</th>\n",
       "    </tr>\n",
       "  </thead>\n",
       "  <tbody>\n",
       "    <tr>\n",
       "      <th>0</th>\n",
       "      <td>0</td>\n",
       "      <td>1</td>\n",
       "      <td>1</td>\n",
       "      <td>0</td>\n",
       "      <td>0</td>\n",
       "      <td>0</td>\n",
       "      <td>0</td>\n",
       "      <td>1</td>\n",
       "      <td>0</td>\n",
       "      <td>0</td>\n",
       "      <td>1</td>\n",
       "      <td>0</td>\n",
       "      <td>0</td>\n",
       "      <td>0</td>\n",
       "      <td>0</td>\n",
       "      <td>0</td>\n",
       "      <td>1</td>\n",
       "    </tr>\n",
       "    <tr>\n",
       "      <th>1</th>\n",
       "      <td>1</td>\n",
       "      <td>0</td>\n",
       "      <td>1</td>\n",
       "      <td>0</td>\n",
       "      <td>0</td>\n",
       "      <td>1</td>\n",
       "      <td>0</td>\n",
       "      <td>0</td>\n",
       "      <td>0</td>\n",
       "      <td>0</td>\n",
       "      <td>1</td>\n",
       "      <td>0</td>\n",
       "      <td>0</td>\n",
       "      <td>0</td>\n",
       "      <td>1</td>\n",
       "      <td>0</td>\n",
       "      <td>0</td>\n",
       "    </tr>\n",
       "    <tr>\n",
       "      <th>2</th>\n",
       "      <td>1</td>\n",
       "      <td>0</td>\n",
       "      <td>0</td>\n",
       "      <td>0</td>\n",
       "      <td>0</td>\n",
       "      <td>0</td>\n",
       "      <td>0</td>\n",
       "      <td>1</td>\n",
       "      <td>0</td>\n",
       "      <td>0</td>\n",
       "      <td>1</td>\n",
       "      <td>0</td>\n",
       "      <td>0</td>\n",
       "      <td>0</td>\n",
       "      <td>0</td>\n",
       "      <td>0</td>\n",
       "      <td>1</td>\n",
       "    </tr>\n",
       "    <tr>\n",
       "      <th>3</th>\n",
       "      <td>1</td>\n",
       "      <td>0</td>\n",
       "      <td>1</td>\n",
       "      <td>0</td>\n",
       "      <td>0</td>\n",
       "      <td>1</td>\n",
       "      <td>0</td>\n",
       "      <td>0</td>\n",
       "      <td>0</td>\n",
       "      <td>0</td>\n",
       "      <td>1</td>\n",
       "      <td>0</td>\n",
       "      <td>0</td>\n",
       "      <td>0</td>\n",
       "      <td>0</td>\n",
       "      <td>0</td>\n",
       "      <td>1</td>\n",
       "    </tr>\n",
       "    <tr>\n",
       "      <th>4</th>\n",
       "      <td>0</td>\n",
       "      <td>1</td>\n",
       "      <td>0</td>\n",
       "      <td>0</td>\n",
       "      <td>0</td>\n",
       "      <td>0</td>\n",
       "      <td>0</td>\n",
       "      <td>1</td>\n",
       "      <td>0</td>\n",
       "      <td>0</td>\n",
       "      <td>1</td>\n",
       "      <td>0</td>\n",
       "      <td>0</td>\n",
       "      <td>0</td>\n",
       "      <td>0</td>\n",
       "      <td>0</td>\n",
       "      <td>1</td>\n",
       "    </tr>\n",
       "  </tbody>\n",
       "</table>\n",
       "</div>"
      ],
      "text/plain": [
       "   Survived  Sex  SibSp  Parch FareGroup  Pclass_1  Pclass_2  Pclass_3  \\\n",
       "0         0    1      1      0         0         0         0         1   \n",
       "1         1    0      1      0         0         1         0         0   \n",
       "2         1    0      0      0         0         0         0         1   \n",
       "3         1    0      1      0         0         1         0         0   \n",
       "4         0    1      0      0         0         0         0         1   \n",
       "\n",
       "   AgeGroup_0  AgeGroup_2  AgeGroup_3  AgeGroup_4  AgeGroup_5  AgeGroup_6  \\\n",
       "0           0           0           1           0           0           0   \n",
       "1           0           0           1           0           0           0   \n",
       "2           0           0           1           0           0           0   \n",
       "3           0           0           1           0           0           0   \n",
       "4           0           0           1           0           0           0   \n",
       "\n",
       "   Embarked_C  Embarked_Q  Embarked_S  \n",
       "0           0           0           1  \n",
       "1           1           0           0  \n",
       "2           0           0           1  \n",
       "3           0           0           1  \n",
       "4           0           0           1  "
      ]
     },
     "execution_count": 23,
     "metadata": {},
     "output_type": "execute_result"
    }
   ],
   "source": [
    "train.head()"
   ]
  },
  {
   "cell_type": "markdown",
   "execution_count": null,
   "metadata": {
    "papermill": {
     "duration": 0.009305,
     "end_time": "2020-08-27T18:43:38.451010",
     "exception": false,
     "start_time": "2020-08-27T18:43:38.441705",
     "status": "completed"
    },
    "tags": []
   },
   "source": [
    "# Modeling"
   ]
  },
  {
   "cell_type": "markdown",
   "execution_count": null,
   "metadata": {
    "papermill": {
     "duration": 0.00933,
     "end_time": "2020-08-27T18:43:38.469947",
     "exception": false,
     "start_time": "2020-08-27T18:43:38.460617",
     "status": "completed"
    },
    "tags": []
   },
   "source": [
    "### lets create the predictors and target variables from trian dataset"
   ]
  },
  {
   "cell_type": "code",
   "execution_count": 24,
   "metadata": {
    "execution": {
     "iopub.execute_input": "2020-08-27T18:43:38.498310Z",
     "iopub.status.busy": "2020-08-27T18:43:38.497563Z",
     "iopub.status.idle": "2020-08-27T18:43:38.504686Z",
     "shell.execute_reply": "2020-08-27T18:43:38.505219Z"
    },
    "papermill": {
     "duration": 0.021018,
     "end_time": "2020-08-27T18:43:38.505389",
     "exception": false,
     "start_time": "2020-08-27T18:43:38.484371",
     "status": "completed"
    },
    "tags": []
   },
   "outputs": [],
   "source": [
    "predictors = train.drop(columns=['Survived'], axis=1)"
   ]
  },
  {
   "cell_type": "code",
   "execution_count": 25,
   "metadata": {
    "execution": {
     "iopub.execute_input": "2020-08-27T18:43:38.528652Z",
     "iopub.status.busy": "2020-08-27T18:43:38.528069Z",
     "iopub.status.idle": "2020-08-27T18:43:38.532504Z",
     "shell.execute_reply": "2020-08-27T18:43:38.532903Z"
    },
    "papermill": {
     "duration": 0.016985,
     "end_time": "2020-08-27T18:43:38.533038",
     "exception": false,
     "start_time": "2020-08-27T18:43:38.516053",
     "status": "completed"
    },
    "tags": []
   },
   "outputs": [],
   "source": [
    "target = train[['Survived']]"
   ]
  },
  {
   "cell_type": "markdown",
   "execution_count": null,
   "metadata": {
    "papermill": {
     "duration": 0.009346,
     "end_time": "2020-08-27T18:43:38.552273",
     "exception": false,
     "start_time": "2020-08-27T18:43:38.542927",
     "status": "completed"
    },
    "tags": []
   },
   "source": [
    "## Create x_train,x_val,y_train,y_val "
   ]
  },
  {
   "cell_type": "code",
   "execution_count": 26,
   "metadata": {
    "execution": {
     "iopub.execute_input": "2020-08-27T18:43:38.574289Z",
     "iopub.status.busy": "2020-08-27T18:43:38.573776Z",
     "iopub.status.idle": "2020-08-27T18:43:38.693961Z",
     "shell.execute_reply": "2020-08-27T18:43:38.694413Z"
    },
    "papermill": {
     "duration": 0.13263,
     "end_time": "2020-08-27T18:43:38.694561",
     "exception": false,
     "start_time": "2020-08-27T18:43:38.561931",
     "status": "completed"
    },
    "tags": []
   },
   "outputs": [],
   "source": [
    "from sklearn.model_selection import train_test_split"
   ]
  },
  {
   "cell_type": "code",
   "execution_count": 27,
   "metadata": {
    "execution": {
     "iopub.execute_input": "2020-08-27T18:43:38.717908Z",
     "iopub.status.busy": "2020-08-27T18:43:38.717358Z",
     "iopub.status.idle": "2020-08-27T18:43:38.723435Z",
     "shell.execute_reply": "2020-08-27T18:43:38.723871Z"
    },
    "papermill": {
     "duration": 0.019121,
     "end_time": "2020-08-27T18:43:38.724013",
     "exception": false,
     "start_time": "2020-08-27T18:43:38.704892",
     "status": "completed"
    },
    "tags": []
   },
   "outputs": [],
   "source": [
    "x_train,x_val,y_train,y_val = train_test_split(predictors,target,test_size=0.2,random_state=123)"
   ]
  },
  {
   "cell_type": "code",
   "execution_count": 28,
   "metadata": {
    "execution": {
     "iopub.execute_input": "2020-08-27T18:43:38.748131Z",
     "iopub.status.busy": "2020-08-27T18:43:38.747201Z",
     "iopub.status.idle": "2020-08-27T18:43:38.753950Z",
     "shell.execute_reply": "2020-08-27T18:43:38.754402Z"
    },
    "papermill": {
     "duration": 0.020386,
     "end_time": "2020-08-27T18:43:38.754543",
     "exception": false,
     "start_time": "2020-08-27T18:43:38.734157",
     "status": "completed"
    },
    "tags": []
   },
   "outputs": [
    {
     "name": "stdout",
     "output_type": "stream",
     "text": [
      "(712, 16)\n",
      "(179, 16)\n",
      "(712, 1)\n",
      "(179, 1)\n"
     ]
    }
   ],
   "source": [
    "# lets see the shapes\n",
    "print(x_train.shape)\n",
    "print(x_val.shape)\n",
    "print(y_train.shape)\n",
    "print(y_val.shape)"
   ]
  },
  {
   "cell_type": "markdown",
   "execution_count": null,
   "metadata": {
    "papermill": {
     "duration": 0.009661,
     "end_time": "2020-08-27T18:43:38.774570",
     "exception": false,
     "start_time": "2020-08-27T18:43:38.764909",
     "status": "completed"
    },
    "tags": []
   },
   "source": [
    "## Importing models"
   ]
  },
  {
   "cell_type": "code",
   "execution_count": 29,
   "metadata": {
    "execution": {
     "iopub.execute_input": "2020-08-27T18:43:38.797492Z",
     "iopub.status.busy": "2020-08-27T18:43:38.796937Z",
     "iopub.status.idle": "2020-08-27T18:43:38.990315Z",
     "shell.execute_reply": "2020-08-27T18:43:38.989814Z"
    },
    "papermill": {
     "duration": 0.205965,
     "end_time": "2020-08-27T18:43:38.990424",
     "exception": false,
     "start_time": "2020-08-27T18:43:38.784459",
     "status": "completed"
    },
    "tags": []
   },
   "outputs": [],
   "source": [
    "from sklearn.linear_model import LogisticRegression\n",
    "from sklearn.neighbors import KNeighborsClassifier\n",
    "from sklearn.tree import DecisionTreeClassifier\n",
    "from sklearn.ensemble import RandomForestClassifier, GradientBoostingClassifier\n",
    "from sklearn.svm import SVC"
   ]
  },
  {
   "cell_type": "code",
   "execution_count": 30,
   "metadata": {
    "execution": {
     "iopub.execute_input": "2020-08-27T18:43:39.058781Z",
     "iopub.status.busy": "2020-08-27T18:43:39.058173Z",
     "iopub.status.idle": "2020-08-27T18:43:39.060715Z",
     "shell.execute_reply": "2020-08-27T18:43:39.061151Z"
    },
    "papermill": {
     "duration": 0.06068,
     "end_time": "2020-08-27T18:43:39.061305",
     "exception": false,
     "start_time": "2020-08-27T18:43:39.000625",
     "status": "completed"
    },
    "tags": []
   },
   "outputs": [],
   "source": [
    "# importing accuracy \n",
    "from sklearn.metrics import accuracy_score"
   ]
  },
  {
   "cell_type": "markdown",
   "execution_count": null,
   "metadata": {
    "papermill": {
     "duration": 0.009671,
     "end_time": "2020-08-27T18:43:39.081159",
     "exception": false,
     "start_time": "2020-08-27T18:43:39.071488",
     "status": "completed"
    },
    "tags": []
   },
   "source": [
    "# Logistic Regression"
   ]
  },
  {
   "cell_type": "code",
   "execution_count": 31,
   "metadata": {
    "execution": {
     "iopub.execute_input": "2020-08-27T18:43:39.107892Z",
     "iopub.status.busy": "2020-08-27T18:43:39.107342Z",
     "iopub.status.idle": "2020-08-27T18:43:39.136402Z",
     "shell.execute_reply": "2020-08-27T18:43:39.136908Z"
    },
    "papermill": {
     "duration": 0.046114,
     "end_time": "2020-08-27T18:43:39.137048",
     "exception": false,
     "start_time": "2020-08-27T18:43:39.090934",
     "status": "completed"
    },
    "tags": []
   },
   "outputs": [
    {
     "name": "stdout",
     "output_type": "stream",
     "text": [
      "Logistic Regression accuracy: 83.24022346368714\n"
     ]
    }
   ],
   "source": [
    "lr = LogisticRegression()\n",
    "lr.fit(x_train,y_train)\n",
    "preds = lr.predict(x_val)\n",
    "lr_accuracy = accuracy_score(y_val,preds)\n",
    "print(f'Logistic Regression accuracy: {lr_accuracy*100}')"
   ]
  },
  {
   "cell_type": "markdown",
   "execution_count": null,
   "metadata": {
    "papermill": {
     "duration": 0.009981,
     "end_time": "2020-08-27T18:43:39.157501",
     "exception": false,
     "start_time": "2020-08-27T18:43:39.147520",
     "status": "completed"
    },
    "tags": []
   },
   "source": [
    "# KNN"
   ]
  },
  {
   "cell_type": "code",
   "execution_count": 32,
   "metadata": {
    "execution": {
     "iopub.execute_input": "2020-08-27T18:43:39.187191Z",
     "iopub.status.busy": "2020-08-27T18:43:39.186527Z",
     "iopub.status.idle": "2020-08-27T18:43:39.204947Z",
     "shell.execute_reply": "2020-08-27T18:43:39.205714Z"
    },
    "papermill": {
     "duration": 0.038002,
     "end_time": "2020-08-27T18:43:39.205940",
     "exception": false,
     "start_time": "2020-08-27T18:43:39.167938",
     "status": "completed"
    },
    "tags": []
   },
   "outputs": [
    {
     "name": "stdout",
     "output_type": "stream",
     "text": [
      "KNN accuracy: 80.44692737430168\n"
     ]
    }
   ],
   "source": [
    "knn = KNeighborsClassifier()\n",
    "knn.fit(x_train,y_train)\n",
    "preds = knn.predict(x_val)\n",
    "knn_accuracy = accuracy_score(y_val, preds)\n",
    "print(f'KNN accuracy: {knn_accuracy*100}')"
   ]
  },
  {
   "cell_type": "markdown",
   "execution_count": null,
   "metadata": {
    "papermill": {
     "duration": 0.009697,
     "end_time": "2020-08-27T18:43:39.226597",
     "exception": false,
     "start_time": "2020-08-27T18:43:39.216900",
     "status": "completed"
    },
    "tags": []
   },
   "source": [
    "# Decission Tree"
   ]
  },
  {
   "cell_type": "code",
   "execution_count": 33,
   "metadata": {
    "execution": {
     "iopub.execute_input": "2020-08-27T18:43:39.250128Z",
     "iopub.status.busy": "2020-08-27T18:43:39.249470Z",
     "iopub.status.idle": "2020-08-27T18:43:39.266392Z",
     "shell.execute_reply": "2020-08-27T18:43:39.267204Z"
    },
    "papermill": {
     "duration": 0.030698,
     "end_time": "2020-08-27T18:43:39.267427",
     "exception": false,
     "start_time": "2020-08-27T18:43:39.236729",
     "status": "completed"
    },
    "tags": []
   },
   "outputs": [
    {
     "name": "stdout",
     "output_type": "stream",
     "text": [
      "Decission Tree accuracy: 86.03351955307262\n"
     ]
    }
   ],
   "source": [
    "dt = DecisionTreeClassifier()\n",
    "dt.fit(x_train,y_train)\n",
    "preds = dt.predict(x_val)\n",
    "dt_accuracy = accuracy_score(y_val, preds)\n",
    "print(f'Decission Tree accuracy: {dt_accuracy*100}')"
   ]
  },
  {
   "cell_type": "markdown",
   "execution_count": null,
   "metadata": {
    "papermill": {
     "duration": 0.010673,
     "end_time": "2020-08-27T18:43:39.289860",
     "exception": false,
     "start_time": "2020-08-27T18:43:39.279187",
     "status": "completed"
    },
    "tags": []
   },
   "source": [
    "# RandomForest"
   ]
  },
  {
   "cell_type": "code",
   "execution_count": 34,
   "metadata": {
    "execution": {
     "iopub.execute_input": "2020-08-27T18:43:39.318290Z",
     "iopub.status.busy": "2020-08-27T18:43:39.317330Z",
     "iopub.status.idle": "2020-08-27T18:43:39.490715Z",
     "shell.execute_reply": "2020-08-27T18:43:39.491204Z"
    },
    "papermill": {
     "duration": 0.191249,
     "end_time": "2020-08-27T18:43:39.491345",
     "exception": false,
     "start_time": "2020-08-27T18:43:39.300096",
     "status": "completed"
    },
    "tags": []
   },
   "outputs": [
    {
     "name": "stdout",
     "output_type": "stream",
     "text": [
      "RandomForest accuracy: 84.35754189944134\n"
     ]
    }
   ],
   "source": [
    "rf = RandomForestClassifier()\n",
    "rf.fit(x_train,y_train)\n",
    "preds = rf.predict(x_val)\n",
    "rf_accuracy = accuracy_score(y_val, preds)\n",
    "print(f'RandomForest accuracy: {rf_accuracy*100}')"
   ]
  },
  {
   "cell_type": "markdown",
   "execution_count": null,
   "metadata": {
    "papermill": {
     "duration": 0.009996,
     "end_time": "2020-08-27T18:43:39.511866",
     "exception": false,
     "start_time": "2020-08-27T18:43:39.501870",
     "status": "completed"
    },
    "tags": []
   },
   "source": [
    "# GradientBoostClassifier"
   ]
  },
  {
   "cell_type": "code",
   "execution_count": 35,
   "metadata": {
    "execution": {
     "iopub.execute_input": "2020-08-27T18:43:39.540299Z",
     "iopub.status.busy": "2020-08-27T18:43:39.539372Z",
     "iopub.status.idle": "2020-08-27T18:43:39.635593Z",
     "shell.execute_reply": "2020-08-27T18:43:39.634894Z"
    },
    "papermill": {
     "duration": 0.113406,
     "end_time": "2020-08-27T18:43:39.635762",
     "exception": false,
     "start_time": "2020-08-27T18:43:39.522356",
     "status": "completed"
    },
    "tags": []
   },
   "outputs": [
    {
     "name": "stdout",
     "output_type": "stream",
     "text": [
      "GradientBoostClassifier accuracy: 84.91620111731844\n"
     ]
    }
   ],
   "source": [
    "gbc = GradientBoostingClassifier()\n",
    "gbc.fit(x_train,y_train)\n",
    "preds = gbc.predict(x_val)\n",
    "gbc_accuracy = accuracy_score(y_val, preds)\n",
    "print(f'GradientBoostClassifier accuracy: {gbc_accuracy*100}')"
   ]
  },
  {
   "cell_type": "markdown",
   "execution_count": null,
   "metadata": {
    "papermill": {
     "duration": 0.010054,
     "end_time": "2020-08-27T18:43:39.657110",
     "exception": false,
     "start_time": "2020-08-27T18:43:39.647056",
     "status": "completed"
    },
    "tags": []
   },
   "source": [
    "# SVM"
   ]
  },
  {
   "cell_type": "code",
   "execution_count": 36,
   "metadata": {
    "execution": {
     "iopub.execute_input": "2020-08-27T18:43:39.687927Z",
     "iopub.status.busy": "2020-08-27T18:43:39.687014Z",
     "iopub.status.idle": "2020-08-27T18:43:39.714914Z",
     "shell.execute_reply": "2020-08-27T18:43:39.715350Z"
    },
    "papermill": {
     "duration": 0.045637,
     "end_time": "2020-08-27T18:43:39.715481",
     "exception": false,
     "start_time": "2020-08-27T18:43:39.669844",
     "status": "completed"
    },
    "tags": []
   },
   "outputs": [
    {
     "name": "stdout",
     "output_type": "stream",
     "text": [
      "SVC accuracy: 84.91620111731844\n"
     ]
    }
   ],
   "source": [
    "svc = SVC()\n",
    "svc.fit(x_train,y_train)\n",
    "preds = svc.predict(x_val)\n",
    "svc_accuracy = accuracy_score(y_val, preds)\n",
    "print(f'SVC accuracy: {svc_accuracy*100}')"
   ]
  },
  {
   "cell_type": "code",
   "execution_count": 37,
   "metadata": {
    "execution": {
     "iopub.execute_input": "2020-08-27T18:43:39.748077Z",
     "iopub.status.busy": "2020-08-27T18:43:39.747198Z",
     "iopub.status.idle": "2020-08-27T18:43:39.751080Z",
     "shell.execute_reply": "2020-08-27T18:43:39.751474Z"
    },
    "papermill": {
     "duration": 0.025566,
     "end_time": "2020-08-27T18:43:39.751611",
     "exception": false,
     "start_time": "2020-08-27T18:43:39.726045",
     "status": "completed"
    },
    "tags": []
   },
   "outputs": [
    {
     "data": {
      "text/html": [
       "<div>\n",
       "<style scoped>\n",
       "    .dataframe tbody tr th:only-of-type {\n",
       "        vertical-align: middle;\n",
       "    }\n",
       "\n",
       "    .dataframe tbody tr th {\n",
       "        vertical-align: top;\n",
       "    }\n",
       "\n",
       "    .dataframe thead th {\n",
       "        text-align: right;\n",
       "    }\n",
       "</style>\n",
       "<table border=\"1\" class=\"dataframe\">\n",
       "  <thead>\n",
       "    <tr style=\"text-align: right;\">\n",
       "      <th></th>\n",
       "      <th>Model</th>\n",
       "      <th>Accuracy</th>\n",
       "    </tr>\n",
       "  </thead>\n",
       "  <tbody>\n",
       "    <tr>\n",
       "      <th>0</th>\n",
       "      <td>LogisticRegression</td>\n",
       "      <td>83.240223</td>\n",
       "    </tr>\n",
       "    <tr>\n",
       "      <th>1</th>\n",
       "      <td>KNN</td>\n",
       "      <td>80.446927</td>\n",
       "    </tr>\n",
       "    <tr>\n",
       "      <th>2</th>\n",
       "      <td>DecissionTree</td>\n",
       "      <td>86.033520</td>\n",
       "    </tr>\n",
       "    <tr>\n",
       "      <th>3</th>\n",
       "      <td>RandomForest</td>\n",
       "      <td>84.357542</td>\n",
       "    </tr>\n",
       "    <tr>\n",
       "      <th>4</th>\n",
       "      <td>GradientBoostClassifier</td>\n",
       "      <td>84.916201</td>\n",
       "    </tr>\n",
       "    <tr>\n",
       "      <th>5</th>\n",
       "      <td>SVM</td>\n",
       "      <td>84.916201</td>\n",
       "    </tr>\n",
       "  </tbody>\n",
       "</table>\n",
       "</div>"
      ],
      "text/plain": [
       "                     Model   Accuracy\n",
       "0       LogisticRegression  83.240223\n",
       "1                      KNN  80.446927\n",
       "2            DecissionTree  86.033520\n",
       "3             RandomForest  84.357542\n",
       "4  GradientBoostClassifier  84.916201\n",
       "5                      SVM  84.916201"
      ]
     },
     "execution_count": 37,
     "metadata": {},
     "output_type": "execute_result"
    }
   ],
   "source": [
    "models = pd.DataFrame({'Model':['LogisticRegression','KNN','DecissionTree','RandomForest','GradientBoostClassifier','SVM'],\n",
    "         'Accuracy':[lr_accuracy*100,knn_accuracy*100,dt_accuracy*100,rf_accuracy*100,gbc_accuracy*100,svc_accuracy*100]})\n",
    "models"
   ]
  },
  {
   "cell_type": "code",
   "execution_count": 38,
   "metadata": {
    "execution": {
     "iopub.execute_input": "2020-08-27T18:43:39.777951Z",
     "iopub.status.busy": "2020-08-27T18:43:39.777401Z",
     "iopub.status.idle": "2020-08-27T18:43:39.782717Z",
     "shell.execute_reply": "2020-08-27T18:43:39.783150Z"
    },
    "papermill": {
     "duration": 0.020983,
     "end_time": "2020-08-27T18:43:39.783292",
     "exception": false,
     "start_time": "2020-08-27T18:43:39.762309",
     "status": "completed"
    },
    "tags": []
   },
   "outputs": [],
   "source": [
    "data = pd.read_csv('/kaggle/input/titanic/test.csv')\n",
    "ids = data['PassengerId']"
   ]
  },
  {
   "cell_type": "code",
   "execution_count": 39,
   "metadata": {
    "execution": {
     "iopub.execute_input": "2020-08-27T18:43:39.807576Z",
     "iopub.status.busy": "2020-08-27T18:43:39.807053Z",
     "iopub.status.idle": "2020-08-27T18:43:39.813107Z",
     "shell.execute_reply": "2020-08-27T18:43:39.813522Z"
    },
    "papermill": {
     "duration": 0.019651,
     "end_time": "2020-08-27T18:43:39.813712",
     "exception": false,
     "start_time": "2020-08-27T18:43:39.794061",
     "status": "completed"
    },
    "tags": []
   },
   "outputs": [],
   "source": [
    "preds = dt.predict(test)"
   ]
  },
  {
   "cell_type": "code",
   "execution_count": 40,
   "metadata": {
    "execution": {
     "iopub.execute_input": "2020-08-27T18:43:39.838510Z",
     "iopub.status.busy": "2020-08-27T18:43:39.837991Z",
     "iopub.status.idle": "2020-08-27T18:43:39.842138Z",
     "shell.execute_reply": "2020-08-27T18:43:39.842505Z"
    },
    "papermill": {
     "duration": 0.01762,
     "end_time": "2020-08-27T18:43:39.842641",
     "exception": false,
     "start_time": "2020-08-27T18:43:39.825021",
     "status": "completed"
    },
    "tags": []
   },
   "outputs": [],
   "source": [
    "output = pd.DataFrame({'PassengerId':ids, 'Survived':preds})"
   ]
  },
  {
   "cell_type": "code",
   "execution_count": 41,
   "metadata": {
    "execution": {
     "iopub.execute_input": "2020-08-27T18:43:39.866768Z",
     "iopub.status.busy": "2020-08-27T18:43:39.866226Z",
     "iopub.status.idle": "2020-08-27T18:43:40.029675Z",
     "shell.execute_reply": "2020-08-27T18:43:40.029163Z"
    },
    "papermill": {
     "duration": 0.176483,
     "end_time": "2020-08-27T18:43:40.029795",
     "exception": false,
     "start_time": "2020-08-27T18:43:39.853312",
     "status": "completed"
    },
    "tags": []
   },
   "outputs": [],
   "source": [
    "output.to_csv('submission.csv', index=False)"
   ]
  }
 ],
 "metadata": {
  "kernelspec": {
   "display_name": "Python 3",
   "language": "python",
   "name": "python3"
  },
  "language_info": {
   "codemirror_mode": {
    "name": "ipython",
    "version": 3
   },
   "file_extension": ".py",
   "mimetype": "text/x-python",
   "name": "python",
   "nbconvert_exporter": "python",
   "pygments_lexer": "ipython3",
   "version": "3.7.6"
  },
  "papermill": {
   "duration": 8.229878,
   "end_time": "2020-08-27T18:43:40.147834",
   "environment_variables": {},
   "exception": null,
   "input_path": "__notebook__.ipynb",
   "output_path": "__notebook__.ipynb",
   "parameters": {},
   "start_time": "2020-08-27T18:43:31.917956",
   "version": "2.1.0"
  }
 },
 "nbformat": 4,
 "nbformat_minor": 4
}
